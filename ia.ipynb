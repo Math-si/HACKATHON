{
 "cells": [
  {
   "cell_type": "code",
   "execution_count": 19,
   "metadata": {},
   "outputs": [
    {
     "name": "stdout",
     "output_type": "stream",
     "text": [
      "Parece que você enviou um arquivo com algumas informações sobre abertura e gerenciamento de um novo negócio. Aqui estão algumas dicas com base nessas informações:\n",
      "\n",
      "1. Registrar o negócio: A última etapa para tornar o empreendimento realidade é formalizá-lo. Certifique-se de entender os requisitos e procedimentos necessários para registrar marcas e patentes, se aplicável.\n",
      "\n",
      "2. Entender o mercado: É essencial compreender o mercado em que você pretende atuar. Isso envolve analisar o público-alvo, identificar concorrentes, tendências e oportunidades de negócio. Utilize um roteiro ou plano de ação para iniciar bem o seu novo negócio.\n",
      "\n",
      "3. Planejamento: Uma boa administração considera a importância de planejar cada etapa do empreendimento. Considere seguir os seis passos para ter sucesso na abertura do seu negócio, que podem incluir desde a definição do modelo de negócio até a elaboração de um plano de marketing.\n",
      "\n",
      "4. Estratégias de marketing: Para atrair clientes e promover o seu negócio, é fundamental desenvolver estratégias de marketing eficazes. Isso pode envolver a criação de uma identidade visual, a definição de canais de comunicação e a elaboração de campanhas publicitárias.\n",
      "\n",
      "5. Controle financeiro: Um fluxo de caixa controlado é essencial para o sucesso do negócio. Certifique-se de ter um sistema de controle financeiro adequado, que permita acompanhar as receitas, despesas e lucros do empreendimento.\n",
      "\n",
      "6. Criatividade e inovação: Para se destacar no mercado, é importante estimular a criatividade e a inovação. Busque constantemente por novas ideias e soluções, seja na oferta de produtos ou serviços, na forma de atendimento ao cliente ou na maneira como você se diferencia dos concorrentes.\n",
      "\n",
      "Espero que essas dicas sejam úteis para você empreender com sucesso. Se tiver mais alguma dúvida, estou à disposição para ajudar!\n"
     ]
    }
   ],
   "source": [
    "import streamlit as st\n",
    "from langchain.vectorstores import FAISS\n",
    "from langchain.embeddings.openai import OpenAIEmbeddings\n",
    "from langchain.prompts import PromptTemplate\n",
    "from langchain.chat_models import ChatOpenAI\n",
    "from langchain.chains import LLMChain\n",
    "from dotenv import load_dotenv\n",
    "from langchain_community.document_loaders import CSVLoader\n",
    "\n",
    "# Carregar variáveis de ambiente\n",
    "load_dotenv()\n",
    "\n",
    "# Carregar documentos do CSV\n",
    "loader = CSVLoader(file_path=\"base_ia.csv\")\n",
    "documents = loader.load()\n",
    "\n",
    "# Verificar se os documentos foram carregados corretamente\n",
    "if not documents:\n",
    "    raise ValueError(\"Nenhum documento foi carregado do CSV.\")\n",
    "\n",
    "# Configurar embeddings e base de dados FAISS\n",
    "embeddings = OpenAIEmbeddings()\n",
    "db = FAISS.from_documents(documents, embeddings)\n",
    "\n",
    "# Função para recuperar informações relevantes\n",
    "def retrieve_info(query):\n",
    "    similar_response = db.similarity_search(query, k=3)\n",
    "    return [doc.page_content for doc in similar_response]\n",
    "\n",
    "# Configurar o modelo de linguagem com parâmetros apropriados\n",
    "llm = ChatOpenAI(temperature=0, model=\"gpt-3.5-turbo-16k-0613\")\n",
    "\n",
    "# Definir o template de prompt\n",
    "template = \"\"\"\n",
    "Você é um assistente focado em responder dúvidas de engenheiros que buscam empreender\n",
    "Utilize o arquivo que mandei como base\n",
    "{best_practice}\n",
    "\"\"\"\n",
    "\n",
    "prompt = PromptTemplate(\n",
    "    template=template,\n",
    "    input_variables=[\"best_practice\"]\n",
    ")\n",
    "\n",
    "# Configurar a cadeia de processamento com o LLM e o prompt\n",
    "chain = LLMChain(llm=llm, prompt=prompt)\n",
    "\n",
    "# Função para gerar resposta usando o modelo de linguagem\n",
    "def generate_response(message):\n",
    "    best_practice = retrieve_info(message)\n",
    "    response = chain.run(best_practice=best_practice)\n",
    "    return response\n",
    "\n",
    "# Exemplo de chamada da função generate_response\n",
    "response = generate_response(\"passo a passo para abrir uma empresa\")\n",
    "print(response)\n"
   ]
  }
 ],
 "metadata": {
  "kernelspec": {
   "display_name": "base",
   "language": "python",
   "name": "python3"
  },
  "language_info": {
   "codemirror_mode": {
    "name": "ipython",
    "version": 3
   },
   "file_extension": ".py",
   "mimetype": "text/x-python",
   "name": "python",
   "nbconvert_exporter": "python",
   "pygments_lexer": "ipython3",
   "version": "3.11.7"
  }
 },
 "nbformat": 4,
 "nbformat_minor": 2
}
